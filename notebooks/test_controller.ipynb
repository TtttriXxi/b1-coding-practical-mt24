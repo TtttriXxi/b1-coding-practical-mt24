{
 "cells": [
  {
   "cell_type": "code",
   "execution_count": 1,
   "metadata": {},
   "outputs": [],
   "source": [
    "# Add relevant Jupyter notebook extensions "
   ]
  },
  {
   "cell_type": "code",
   "execution_count": 17,
   "metadata": {},
   "outputs": [
    {
     "name": "stdout",
     "output_type": "stream",
     "text": [
      "['/Users/sunsu/anaconda3/lib/python311.zip', '/Users/sunsu/anaconda3/lib/python3.11', '/Users/sunsu/anaconda3/lib/python3.11/lib-dynload', '', '/Users/sunsu/.venvs/first-venv/lib/python3.11/site-packages', '/Users/sunsu/Desktop/b1_computing/scientific_coding/b1-coding-practical-mt24', '/Users/sunsu/Desktop/b1_computing/scientific_coding/b1-coding-practical-mt24', '/Users/sunsu/Desktop/b1_computing/scientific_coding/b1-coding-practical-mt24']\n",
      "/Users/sunsu/Desktop/b1_computing/scientific_coding/b1-coding-practical-mt24/notebooks\n",
      "['/Users/sunsu/anaconda3/lib/python311.zip', '/Users/sunsu/anaconda3/lib/python3.11', '/Users/sunsu/anaconda3/lib/python3.11/lib-dynload', '', '/Users/sunsu/.venvs/first-venv/lib/python3.11/site-packages', '/Users/sunsu/Desktop/b1_computing/scientific_coding/b1-coding-practical-mt24', '/Users/sunsu/Desktop/b1_computing/scientific_coding/b1-coding-practical-mt24', '/Users/sunsu/Desktop/b1_computing/scientific_coding/b1-coding-practical-mt24', '/Users/sunsu/Desktop/b1_computing/scientific_coding/b1-coding-practical-mt24']\n"
     ]
    }
   ],
   "source": [
    "# You can double-check your Python path like this...\n",
    "import sys\n",
    "print(sys.path)\n",
    "import os\n",
    "print(os.getcwd())\n",
    "\n",
    "sys.path.append(os.path.abspath('..'))\n",
    "print(sys.path)"
   ]
  },
  {
   "cell_type": "markdown",
   "metadata": {},
   "source": [
    "# Simulate closed-loop\n",
    "After implementing your control functionality, you can simulate the closed-loop with code that looks something like this..."
   ]
  },
  {
   "cell_type": "code",
   "execution_count": null,
   "metadata": {},
   "outputs": [],
   "source": [
    "# Import relevant modules\n",
    "\n",
    "sub = Submarine()\n",
    "# Instantiate your controller (depending on your implementation)\n",
    "closed_loop = ClosedLoop(sub, controller)\n",
    "mission = Mission.from_csv(\"path/to/file\") # You must implement this method in the Mission class\n",
    "\n",
    "trajectory = closed_loop.simulate_with_random_disturbances(mission)\n",
    "trajectory.plot_completed_mission(mission)"
   ]
  },
  {
   "cell_type": "markdown",
   "metadata": {},
   "source": [
    "# Test controller implementation"
   ]
  },
  {
   "cell_type": "code",
   "execution_count": 10,
   "metadata": {},
   "outputs": [
    {
     "ename": "TypeError",
     "evalue": "object of type 'numpy.float64' has no len()",
     "output_type": "error",
     "traceback": [
      "\u001b[0;31m---------------------------------------------------------------------------\u001b[0m",
      "\u001b[0;31mTypeError\u001b[0m                                 Traceback (most recent call last)",
      "Cell \u001b[0;32mIn[10], line 11\u001b[0m\n\u001b[1;32m      8\u001b[0m closed_loop \u001b[38;5;241m=\u001b[39m ClosedLoop(sub, controller)\n\u001b[1;32m      9\u001b[0m mission \u001b[38;5;241m=\u001b[39m Mission\u001b[38;5;241m.\u001b[39mfrom_csv(\u001b[38;5;124m\"\u001b[39m\u001b[38;5;124m/Users/sunsu/Desktop/b1_computing/scientific_coding/b1-coding-practical-mt24/data/mission.csv\u001b[39m\u001b[38;5;124m\"\u001b[39m) \u001b[38;5;66;03m# You must implement this method in the Mission class\u001b[39;00m\n\u001b[0;32m---> 11\u001b[0m trajectory \u001b[38;5;241m=\u001b[39m \u001b[43mclosed_loop\u001b[49m\u001b[38;5;241;43m.\u001b[39;49m\u001b[43msimulate_with_random_disturbances\u001b[49m\u001b[43m(\u001b[49m\u001b[43mmission\u001b[49m\u001b[43m)\u001b[49m\n\u001b[1;32m     12\u001b[0m trajectory\u001b[38;5;241m.\u001b[39mplot_completed_mission(mission)\n",
      "File \u001b[0;32m~/Desktop/b1_computing/scientific_coding/b1-coding-practical-mt24/uuv_mission/dynamic.py:112\u001b[0m, in \u001b[0;36mClosedLoop.simulate_with_random_disturbances\u001b[0;34m(self, mission, variance)\u001b[0m\n\u001b[1;32m    111\u001b[0m \u001b[38;5;28;01mdef\u001b[39;00m \u001b[38;5;21msimulate_with_random_disturbances\u001b[39m(\u001b[38;5;28mself\u001b[39m, mission: Mission, variance: \u001b[38;5;28mfloat\u001b[39m \u001b[38;5;241m=\u001b[39m \u001b[38;5;241m0.5\u001b[39m) \u001b[38;5;241m-\u001b[39m\u001b[38;5;241m>\u001b[39m Trajectory:\n\u001b[0;32m--> 112\u001b[0m     disturbances \u001b[38;5;241m=\u001b[39m np\u001b[38;5;241m.\u001b[39mrandom\u001b[38;5;241m.\u001b[39mnormal(\u001b[38;5;241m0\u001b[39m, variance, \u001b[38;5;28;43mlen\u001b[39;49m\u001b[43m(\u001b[49m\u001b[43mmission\u001b[49m\u001b[38;5;241;43m.\u001b[39;49m\u001b[43mreference\u001b[49m\u001b[43m)\u001b[49m)\n\u001b[1;32m    113\u001b[0m     \u001b[38;5;28;01mreturn\u001b[39;00m \u001b[38;5;28mself\u001b[39m\u001b[38;5;241m.\u001b[39msimulate(mission, disturbances)\n",
      "\u001b[0;31mTypeError\u001b[0m: object of type 'numpy.float64' has no len()"
     ]
    }
   ],
   "source": [
    "# Import relevant modules\n",
    "from uuv_mission.dynamic import (ClosedLoop, Trajectory, Submarine, Mission)\n",
    "from uuv_mission.control import Controller\n",
    "sub  = Submarine\n",
    "controller = Controller\n",
    "trajectory = Trajectory\n",
    "# Instantiate your controller (depending on your implementation)\n",
    "closed_loop = ClosedLoop(sub, controller)\n",
    "mission = Mission.from_csv(\"/Users/sunsu/Desktop/b1_computing/scientific_coding/b1-coding-practical-mt24/data/mission.csv\") # You must implement this method in the Mission class\n",
    "\n",
    "trajectory = closed_loop.simulate_with_random_disturbances(mission)\n",
    "trajectory.plot_completed_mission(mission)"
   ]
  },
  {
   "cell_type": "code",
   "execution_count": 22,
   "metadata": {},
   "outputs": [],
   "source": [
    "import pandas as pd\n",
    "data = pd.read_csv(\"/Users/sunsu/Desktop/b1_computing/scientific_coding/b1-coding-practical-mt24/data/mission.csv\")"
   ]
  }
 ],
 "metadata": {
  "kernelspec": {
   "display_name": "first-venv",
   "language": "python",
   "name": "python3"
  },
  "language_info": {
   "codemirror_mode": {
    "name": "ipython",
    "version": 3
   },
   "file_extension": ".py",
   "mimetype": "text/x-python",
   "name": "python",
   "nbconvert_exporter": "python",
   "pygments_lexer": "ipython3",
   "version": "3.11.5"
  }
 },
 "nbformat": 4,
 "nbformat_minor": 2
}
